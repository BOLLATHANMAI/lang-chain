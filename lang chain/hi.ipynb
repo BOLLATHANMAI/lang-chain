{
 "cells": [
  {
   "cell_type": "code",
   "execution_count": 1,
   "metadata": {},
   "outputs": [],
   "source": [
    "import getpass\n",
    "import os\n",
    "\n",
    "os.environ[\"GOOGLE_API_KEY\"] = getpass.getpass(\"Enter your Google AI API key:\")"
   ]
  },
  {
   "cell_type": "code",
   "execution_count": 2,
   "metadata": {},
   "outputs": [
    {
     "name": "stderr",
     "output_type": "stream",
     "text": [
      "c:\\Users\\NALLA\\miniconda3\\Lib\\site-packages\\tqdm\\auto.py:21: TqdmWarning: IProgress not found. Please update jupyter and ipywidgets. See https://ipywidgets.readthedocs.io/en/stable/user_install.html\n",
      "  from .autonotebook import tqdm as notebook_tqdm\n"
     ]
    }
   ],
   "source": [
    "from langchain_google_genai import ChatGoogleGenerativeAI\n",
    "\n",
    "llm = ChatGoogleGenerativeAI(\n",
    "    model=\"gemini-1.5-pro\",\n",
    "    temperature=0,\n",
    "    max_tokens=None,\n",
    "    timeout=None,\n",
    "    max_retries=2,\n",
    "    # other params...\n",
    ")"
   ]
  },
  {
   "cell_type": "code",
   "execution_count": null,
   "metadata": {},
   "outputs": [
    {
     "data": {
      "text/plain": [
       "AIMessage(content='నాకు ప్రోగ్రామింగ్ అంటే చాలా ఇష్టం (Nāku prōgrāming anṭē chālā iṣṭam) \\n', additional_kwargs={}, response_metadata={'prompt_feedback': {'block_reason': 0, 'safety_ratings': []}, 'finish_reason': 'STOP', 'safety_ratings': []}, id='run-dbdc97fe-54f5-4e64-88e7-5aae10f6fb0d-0', usage_metadata={'input_tokens': 22, 'output_tokens': 38, 'total_tokens': 60, 'input_token_details': {'cache_read': 0}})"
      ]
     },
     "execution_count": 4,
     "metadata": {},
     "output_type": "execute_result"
    }
   ],
   "source": [
    "messages = [\n",
    "    (\n",
    "        \"system\",\n",
    "        \"You are a helpful teacher that translates English to telugu. Translate the user sentence.\",\n",
    "    ),\n",
    "    (\"human\", \"I love programming.\"),\n",
    "]\n",
    "ai_msg = llm.invoke(messages)\n",
    "ai_msg"
   ]
  },
  {
   "cell_type": "code",
   "execution_count": 9,
   "metadata": {},
   "outputs": [
    {
     "name": "stderr",
     "output_type": "stream",
     "text": [
      "C:\\Users\\NALLA\\AppData\\Local\\Temp\\ipykernel_2552\\3835913359.py:8: LangChainDeprecationWarning: The class `LLMChain` was deprecated in LangChain 0.1.17 and will be removed in 1.0. Use :meth:`~RunnableSequence, e.g., `prompt | llm`` instead.\n",
      "  name_chain = LLMChain(llm = llm , prompt = bakery_prompt , output_key = \"rest_name\")\n"
     ]
    }
   ],
   "source": [
    "from langchain import PromptTemplate\n",
    "from langchain.chains import LLMChain , SequentialChain\n",
    "\n",
    "bakery_prompt = PromptTemplate(\n",
    "    input_variables = [\"type\"],\n",
    "    template = \"we are building a restaurent of type {type} . plz suggest some restaurent names\"\n",
    ")\n",
    "name_chain = LLMChain(llm = llm , prompt = bakery_prompt , output_key = \"rest_name\")"
   ]
  },
  {
   "cell_type": "code",
   "execution_count": 11,
   "metadata": {},
   "outputs": [
    {
     "data": {
      "text/plain": [
       "\"## Bar & Grill Restaurant Name Suggestions:\\n\\n**Classic & Evocative:**\\n\\n* The Ember & Ale\\n* The Charred Oak\\n* The Brick & Barrel\\n* The Sizzling Stone\\n* The Fire & Fork\\n* The Copper Kettle Grill\\n* The Smokin' Barrel\\n* The Grill & Grain\\n\\n**Modern & Trendy:**\\n\\n* Ember & Ash\\n* The Cinder Room\\n* The Smokehouse Social\\n* The Grill & Vine\\n* The Charred Plate\\n* The Black Iron Grill\\n* The Refined Ember\\n* The Crafted Keg\\n\\n**Playful & Catchy:**\\n\\n* Holy Smokes BBQ & Bar\\n* The Tipsy Grill\\n* The Hungry Ember\\n* The Grill Sergeant\\n* The Fork & Flask\\n* The Pint & Plate\\n* Cheers & Chars\\n* Sip & Sizzle\\n\\n**Location Specific (adapt to your area):**\\n\\n* [Your Town/Neighborhood] Grill & Tap\\n* The [Local Landmark] Bar & Grill\\n* The [Street Name] Smokehouse\\n\\n**Unique & Quirky:**\\n\\n* The Flaming Feather\\n* The Crooked Cleaver\\n* The Rusty Spatula\\n* The Twisted Fork\\n\\n**Tips for Choosing a Name:**\\n\\n* **Keep it short and memorable:** Easy to recall and share.\\n* **Reflect your concept:**  Communicate the type of food and atmosphere.\\n* **Check for availability:** Make sure the name isn't already taken (domain name, social media handles).\\n* **Get feedback:** Ask potential customers for their opinions.\\n* **Consider your target audience:**  Who are you trying to attract?\\n\\n\\nRemember to also consider your logo and branding when choosing a name. Good luck!\\n\""
      ]
     },
     "execution_count": 11,
     "metadata": {},
     "output_type": "execute_result"
    }
   ],
   "source": [
    "ans =name_chain.run(\"bar and grill\")\n",
    "ans\n"
   ]
  },
  {
   "cell_type": "code",
   "execution_count": 12,
   "metadata": {},
   "outputs": [],
   "source": [
    "item_prompt = PromptTemplate(\n",
    "    input_variables = [\"rest_name\"],\n",
    "    template = \"recomend some menu list  for our  restaurent name = {rest_name} . gave only recipes by comma saparated\"\n",
    ")\n",
    "item_chain = LLMChain(llm = llm , prompt = item_prompt , output_key= \"item_out\")"
   ]
  },
  {
   "cell_type": "code",
   "execution_count": 13,
   "metadata": {},
   "outputs": [
    {
     "data": {
      "text/plain": [
       "'**Appetizers:**\\n\\nSamosas, Vegetable Pakoras, Onion Bhajis, Chicken Tikka, Seekh Kebab, Hara Bhara Kebab\\n\\n**Main Courses (Vegetarian):**\\n\\nMalai Kofta, Palak Paneer, Chana Masala, Dal Makhani, Vegetable Biryani, Baingan Bharta, Aloo Gobi, Mushroom Matar, Vegetable Jalfrezi\\n\\n**Main Courses (Non-Vegetarian):**\\n\\nButter Chicken, Chicken Tikka Masala, Lamb Rogan Josh, Chicken Biryani, Lamb Korma, Fish Curry, Tandoori Chicken, Chicken Vindaloo\\n\\n**Breads:**\\n\\nNaan, Garlic Naan, Butter Naan, Roti, Paratha, Puri\\n\\n**Rice:**\\n\\nJeera Rice, Basmati Rice, Vegetable Pulao\\n\\n**Sides:**\\n\\nRaita, Pickle, Chutney\\n\\n**Desserts:**\\n\\nGulab Jamun, Rasmalai, Kheer, Kulfi\\n'"
      ]
     },
     "execution_count": 13,
     "metadata": {},
     "output_type": "execute_result"
    }
   ],
   "source": [
    "item_chain.run(\"indian masala\")"
   ]
  },
  {
   "cell_type": "code",
   "execution_count": 14,
   "metadata": {},
   "outputs": [],
   "source": [
    "chain = SequentialChain(\n",
    "    chains = [name_chain , item_chain],\n",
    "    input_variables = [\"type\"],\n",
    "    output_variables  =[\"rest_name\" , \"item_out\"]\n",
    ")"
   ]
  },
  {
   "cell_type": "code",
   "execution_count": 15,
   "metadata": {},
   "outputs": [
    {
     "name": "stderr",
     "output_type": "stream",
     "text": [
      "C:\\Users\\NALLA\\AppData\\Local\\Temp\\ipykernel_2552\\3236401727.py:1: LangChainDeprecationWarning: The method `Chain.__call__` was deprecated in langchain 0.1.0 and will be removed in 1.0. Use :meth:`~invoke` instead.\n",
      "  chain({\"indian\"})\n"
     ]
    },
    {
     "data": {
      "text/plain": [
       "{'type': {'indian'},\n",
       " 'rest_name': \"Here are some restaurant name suggestions for an Indian restaurant, categorized by style:\\n\\n**Classic & Elegant:**\\n\\n* The Saffron Table\\n* Maharaja's Kitchen\\n* Jewel of India\\n* The Spice Merchant\\n* Taj Mahal Cuisine\\n* Royal India Dining\\n* The Curry Leaf\\n* Indian Delights\\n* Ambrosia Indian Bistro\\n* The Ganges Grill\\n\\n\\n**Modern & Trendy:**\\n\\n* Masala & Mint\\n* Turmeric & Thyme\\n* Chilli & Chaat\\n* Saffron & Soul\\n* The Spice Route Bistro\\n* Curry Up Now\\n* Naan Stop\\n* Tandoor & Tap\\n* Bombay Bites\\n* Delhi Darbar\\n\\n\\n**Regional Specific (Examples):**\\n\\n* **(North Indian):**  Himalayan Flavors,  Punjab Grill,  Delhi Spice House\\n* **(South Indian):**  Coastal Curry,  Madras Cafe,  Chettinad Kitchen\\n* **(Goan):**  Goa Portuguesa,  Spice Coast Kitchen,  Goan Delights\\n\\n\\n**Playful & Catchy:**\\n\\n* Currylicious\\n* Naan Sense\\n* Butter Chicken Co.\\n* Tikka Chance on Me\\n* Holy Cow! (use with caution, might be offensive to some)\\n* Spice It Up\\n\\n\\n**Tips for Choosing a Name:**\\n\\n* **Keep it short and memorable:**  Easy to recall and share.\\n* **Reflect your cuisine:**  Give a hint of what you offer.\\n* **Check for availability:**  Make sure the name isn't already taken (domain name, social media handles).\\n* **Target your audience:**  Consider who you want to attract.\\n* **Say it out loud:**  Ensure it sounds good and is easy to pronounce.\\n\\n\\nUltimately, the best name is one that resonates with you and represents your restaurant's unique identity. Good luck!\\n\",\n",
       " 'item_out': \"Okay, here are some menu suggestions, presented as comma-separated recipes, categorized by common Indian restaurant sections.  I've tried to offer a mix of popular and slightly more unique dishes to give you some flexibility.  Remember to adjust spice levels and offerings to suit your target audience and restaurant concept.\\n\\n**Appetizers (Starters):**\\n\\nVegetable Samosas, Vegetable Pakoras, Onion Bhaji, Paneer Tikka, Chicken Tikka, Hara Bhara Kebab, Dahi Puri, Papdi Chaat, Aloo Tikki, Fish Amritsari, Tandoori Chicken Wings\\n\\n**Tandoori Dishes:**\\n\\nTandoori Chicken, Chicken Tikka Masala, Butter Chicken, Tandoori Paneer, Malai Kofta, Seekh Kebab, Tandoori Fish, Tandoori Prawns, Reshmi Kebab\\n\\n**Curries (Vegetable):**\\n\\nAloo Gobi, Palak Paneer, Malai Kofta (curry), Chana Masala, Dal Makhani, Vegetable Korma, Baingan Bharta, Navratan Korma, Bhindi Masala, Mushroom Mutter\\n\\n**Curries (Non-Vegetarian):**\\n\\nButter Chicken, Chicken Tikka Masala, Rogan Josh, Chicken Korma, Chicken Vindaloo, Lamb Curry, Mutton Rogan Josh, Fish Curry, Prawn Curry, Kadai Chicken\\n\\n**Breads:**\\n\\nNaan, Garlic Naan, Butter Naan, Roti, Paratha, Lacha Paratha, Puri, Bhatura, Kulcha, Missi Roti\\n\\n**Rice Dishes:**\\n\\nPlain Rice, Jeera Rice, Vegetable Biryani, Chicken Biryani, Mutton Biryani, Prawn Biryani, Vegetable Pulao, Kashmiri Pulao\\n\\n**Desserts:**\\n\\nGulab Jamun, Rasmalai, Jalebi, Kulfi, Rice Kheer, Carrot Halwa, Shahi Tukda, Mango Lassi, Sweet Lassi\\n\\n**Sides:**\\n\\nRaita (Cucumber, Boondi, Mixed Vegetable), Pickle, Chutney (Mint, Tamarind, Coriander)\\n\\n\\n**Example Menu Sections (using the above and adding descriptions -  adapt these to your restaurant):**\\n\\n* **Tandoori Delights:**  [Description of Tandoor cooking], followed by the Tandoori dishes listed above.\\n* **From the Curry House:** [Description highlighting curry variety], followed by Vegetable and Non-Veg curries.\\n* **Breads & Rice:** [Simple description], followed by Breads and Rice Dishes.\\n* **Sweet Endings:** [Descriptive text about Indian desserts], followed by the Desserts.\\n\\n\\nThis is a starting point. You can customize it further by adding regional specialties, chef's specials, thalis, and combination meals.  Remember to consider dietary restrictions and offer vegetarian, vegan, and gluten-free options where possible.\\n\"}"
      ]
     },
     "execution_count": 15,
     "metadata": {},
     "output_type": "execute_result"
    }
   ],
   "source": [
    "chain({\"indian\"})"
   ]
  },
  {
   "cell_type": "code",
   "execution_count": null,
   "metadata": {},
   "outputs": [],
   "source": []
  }
 ],
 "metadata": {
  "kernelspec": {
   "display_name": "base",
   "language": "python",
   "name": "python3"
  },
  "language_info": {
   "codemirror_mode": {
    "name": "ipython",
    "version": 3
   },
   "file_extension": ".py",
   "mimetype": "text/x-python",
   "name": "python",
   "nbconvert_exporter": "python",
   "pygments_lexer": "ipython3",
   "version": "3.11.7"
  }
 },
 "nbformat": 4,
 "nbformat_minor": 2
}
